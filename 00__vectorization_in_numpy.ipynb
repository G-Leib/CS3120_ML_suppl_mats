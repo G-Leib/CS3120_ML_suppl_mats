{
 "cells": [
  {
   "cell_type": "markdown",
   "metadata": {
    "button": false,
    "new_sheet": false,
    "run_control": {
     "read_only": false
    }
   },
   "source": [
    "## demo Vectorized vs Non-Vectorized Code\n",
    "* `inspired by Andrew Ng's course at deeplearning.ai`\n",
    "* Use vectorized approaches for better computation\n",
    "* Broadcasting\n",
    "    * helps avoid for-loops through automatic transformation of vectors\n",
    "    * potential issues with rank 1 arrays"
   ]
  },
  {
   "cell_type": "markdown",
   "metadata": {
    "button": false,
    "new_sheet": false,
    "run_control": {
     "read_only": false
    }
   },
   "source": [
    "### performance for vectorized vs nonvectorized code"
   ]
  },
  {
   "cell_type": "code",
   "execution_count": 102,
   "metadata": {
    "button": false,
    "new_sheet": false,
    "run_control": {
     "read_only": false
    }
   },
   "outputs": [
    {
     "data": {
      "text/plain": [
       "array([1, 2, 3, 4])"
      ]
     },
     "execution_count": 102,
     "metadata": {},
     "output_type": "execute_result"
    }
   ],
   "source": [
    "import numpy as np\n",
    "\n",
    "a = np.array([1,2,3,4])\n",
    "a"
   ]
  },
  {
   "cell_type": "code",
   "execution_count": 103,
   "metadata": {
    "button": false,
    "new_sheet": false,
    "run_control": {
     "read_only": false
    }
   },
   "outputs": [
    {
     "name": "stdout",
     "output_type": "stream",
     "text": [
      "Vectorized version: 0.784 ms\n",
      "For-loop version: 491.510 ms\n",
      "Vectorized version is 626.799 times faster\n"
     ]
    }
   ],
   "source": [
    "# vectorized version\n",
    "import time\n",
    "\n",
    "a = np.random.rand(1000000) # million dim array\n",
    "b = np.random.rand(1000000) # million dim array\n",
    "\n",
    "tic1 = time.time()\n",
    "# vectorized\n",
    "c = np.dot(a,b)\n",
    "toc1 = time.time()\n",
    "\n",
    "\n",
    "\n",
    "\n",
    "# nonvectorized, for loop version takes much longer\n",
    "c = 0\n",
    "tic2 = time.time()\n",
    "for i in range(1000000):\n",
    "    c += a[i] * b[i]\n",
    "    \n",
    "toc2 = time.time()\n",
    "\n",
    "print(\"Vectorized version: {0:.3f} ms\".format(1000*(toc1-tic1)))\n",
    "print(\"For-loop version: {0:.3f} ms\".format(1000*(toc2-tic2)))\n",
    "\n",
    "x_faster = (toc2-tic2)/(toc1-tic1)\n",
    "print(\"Vectorized version is {0:.3f} times faster\".format(x_faster))"
   ]
  },
  {
   "cell_type": "markdown",
   "metadata": {
    "button": false,
    "new_sheet": false,
    "run_control": {
     "read_only": false
    }
   },
   "source": [
    "#### AVOID FOR LOOPS!\n",
    "* ... whenever possible"
   ]
  },
  {
   "cell_type": "markdown",
   "metadata": {
    "button": false,
    "new_sheet": false,
    "run_control": {
     "read_only": false
    }
   },
   "source": [
    "```\n",
    "\n",
    "\n",
    "\n",
    "\n",
    "\n",
    "```\n",
    "### Use np vector/matrix operations\n",
    "* np vectors/arrays can receive most operations directly, without a for-loop"
   ]
  },
  {
   "cell_type": "code",
   "execution_count": 104,
   "metadata": {
    "button": false,
    "new_sheet": false,
    "run_control": {
     "read_only": false
    }
   },
   "outputs": [
    {
     "name": "stdout",
     "output_type": "stream",
     "text": [
      "[[ 58.53348993  58.20226079  61.45613714  66.33386725]\n",
      " [ 16.63980157   3.01826404   6.90667932  96.88348889]\n",
      " [ 49.59134337  31.47327713 115.11978712  39.63892068]\n",
      " [ 32.39991298  83.0155741   67.20459335  74.44083023]\n",
      " [ 56.48383827  92.04295588  55.72913828  67.52746688]]\n"
     ]
    }
   ],
   "source": [
    "'''\n",
    "example: create a matrix with percentage contribution to \n",
    "         each column\n",
    "'''\n",
    "\n",
    "# first, build a random normal, \n",
    "#   5x4 matrix with values mu=50, sigma=40\n",
    "A = np.abs(40*np.random.randn(5, 4) + 50)\n",
    "\n",
    "print(A)"
   ]
  },
  {
   "cell_type": "code",
   "execution_count": 105,
   "metadata": {
    "button": false,
    "new_sheet": false,
    "run_control": {
     "read_only": false
    }
   },
   "outputs": [
    {
     "data": {
      "text/plain": [
       "array([213.64838613, 267.75233194, 306.41633521, 344.82457393])"
      ]
     },
     "execution_count": 105,
     "metadata": {},
     "output_type": "execute_result"
    }
   ],
   "source": [
    "# sum columns vertically, store in vector\n",
    "col_sums = A.sum(axis=0) \n",
    "col_sums"
   ]
  },
  {
   "cell_type": "code",
   "execution_count": 106,
   "metadata": {
    "button": false,
    "new_sheet": false,
    "run_control": {
     "read_only": false
    }
   },
   "outputs": [
    {
     "data": {
      "text/plain": [
       "array([[27.39711308, 21.73734973, 20.05641674, 19.23698955],\n",
       "       [ 7.78840499,  1.12725966,  2.25401799, 28.09645722],\n",
       "       [23.21166299, 11.75462298, 37.56972912, 11.49538742],\n",
       "       [15.16506329, 31.00461292, 21.93244473, 21.58802935],\n",
       "       [26.43775565, 34.37615471, 18.18739143, 19.58313646]])"
      ]
     },
     "execution_count": 106,
     "metadata": {},
     "output_type": "execute_result"
    }
   ],
   "source": [
    "# build matrix of element percentages\n",
    "percentages = 100*A/col_sums.reshape(1,4)\n",
    "percentages"
   ]
  },
  {
   "cell_type": "code",
   "execution_count": 107,
   "metadata": {
    "button": false,
    "new_sheet": false,
    "run_control": {
     "read_only": false
    }
   },
   "outputs": [
    {
     "data": {
      "text/plain": [
       "array([100., 100., 100., 100.])"
      ]
     },
     "execution_count": 107,
     "metadata": {},
     "output_type": "execute_result"
    }
   ],
   "source": [
    "# verify\n",
    "percent_sums = percentages.sum(axis=0)\n",
    "percent_sums"
   ]
  },
  {
   "cell_type": "markdown",
   "metadata": {
    "button": false,
    "new_sheet": false,
    "run_control": {
     "read_only": false
    }
   },
   "source": [
    "```\n",
    "\n",
    "\n",
    "\n",
    "\n",
    "\n",
    "```\n",
    "### Broadcasting\n",
    "* np vectors/arrays automatically change shape for certain operations\n",
    "* avoid using rank 1 arrays `.shape=(n,)`"
   ]
  },
  {
   "cell_type": "code",
   "execution_count": 108,
   "metadata": {
    "button": false,
    "new_sheet": false,
    "run_control": {
     "read_only": false
    }
   },
   "outputs": [
    {
     "data": {
      "text/plain": [
       "array([ 0.7927525 , -1.00646762,  0.68635007,  0.6052297 ,  0.54565976])"
      ]
     },
     "execution_count": 108,
     "metadata": {},
     "output_type": "execute_result"
    }
   ],
   "source": [
    "d = np.random.randn(5)\n",
    "d"
   ]
  },
  {
   "cell_type": "code",
   "execution_count": 109,
   "metadata": {
    "button": false,
    "new_sheet": false,
    "run_control": {
     "read_only": false
    }
   },
   "outputs": [
    {
     "data": {
      "text/plain": [
       "(5,)"
      ]
     },
     "execution_count": 109,
     "metadata": {},
     "output_type": "execute_result"
    }
   ],
   "source": [
    "# a rank 1 array is neither a row vector nor column vector\n",
    "d.shape"
   ]
  },
  {
   "cell_type": "code",
   "execution_count": 110,
   "metadata": {
    "button": false,
    "new_sheet": false,
    "run_control": {
     "read_only": false
    }
   },
   "outputs": [
    {
     "name": "stdout",
     "output_type": "stream",
     "text": [
      "[ 0.7927525  -1.00646762  0.68635007  0.6052297   0.54565976]\n",
      "[ 0.7927525  -1.00646762  0.68635007  0.6052297   0.54565976]\n"
     ]
    }
   ],
   "source": [
    "# note that the rank 1 array has the same output when transposed\n",
    "print(d)\n",
    "print(d.T)"
   ]
  },
  {
   "cell_type": "code",
   "execution_count": 111,
   "metadata": {
    "button": false,
    "new_sheet": false,
    "run_control": {
     "read_only": false
    }
   },
   "outputs": [
    {
     "name": "stdout",
     "output_type": "stream",
     "text": [
      "What does this number represent?: 2.7765575772878286\n"
     ]
    }
   ],
   "source": [
    "# difficult to predict outcome of the dot product of a\n",
    "#  rank 1 array with itself\n",
    "is_this_a_dot_product = np.dot(d,d.T)\n",
    "print(\"What does this number represent?: {}\".format(is_this_a_dot_product))\n"
   ]
  },
  {
   "cell_type": "code",
   "execution_count": 112,
   "metadata": {
    "button": false,
    "new_sheet": false,
    "run_control": {
     "read_only": false
    }
   },
   "outputs": [
    {
     "name": "stdout",
     "output_type": "stream",
     "text": [
      "[[-1.15544681]\n",
      " [-0.33317615]\n",
      " [-0.14645179]\n",
      " [-1.81561415]\n",
      " [-2.01734266]]\n",
      "\n",
      "[[-1.15544681 -0.33317615 -0.14645179 -1.81561415 -2.01734266]]\n"
     ]
    }
   ],
   "source": [
    "# recommendation is don't use rank 1 arrays like shape (5,)\n",
    "# instead, explicitly declare the shape when building the array:\n",
    "e = np.random.randn(5,1)\n",
    "print(e)\n",
    "print()\n",
    "print(e.T)"
   ]
  },
  {
   "cell_type": "markdown",
   "metadata": {
    "button": false,
    "new_sheet": false,
    "run_control": {
     "read_only": false
    }
   },
   "source": [
    "#### [outer product of a vector:](https://ipfs.io/ipfs/QmXoypizjW3WknFiJnKLwHCnL72vedxjQkDDP1mXWo6uco/wiki/Outer_product.html)"
   ]
  },
  {
   "cell_type": "code",
   "execution_count": 113,
   "metadata": {
    "button": false,
    "new_sheet": false,
    "run_control": {
     "read_only": false
    }
   },
   "outputs": [
    {
     "name": "stdout",
     "output_type": "stream",
     "text": [
      "[[1.33505733 0.38496731 0.16921725 2.09784558 2.33093213]\n",
      " [0.38496731 0.11100634 0.04879424 0.60491932 0.67213045]\n",
      " [0.16921725 0.04879424 0.02144813 0.26589994 0.29544344]\n",
      " [2.09784558 0.60491932 0.26589994 3.29645474 3.66271587]\n",
      " [2.33093213 0.67213045 0.29544344 3.66271587 4.06967139]]\n"
     ]
    }
   ],
   "source": [
    "print(np.dot(e, e.T))"
   ]
  },
  {
   "cell_type": "markdown",
   "metadata": {
    "button": false,
    "new_sheet": false,
    "run_control": {
     "read_only": false
    }
   },
   "source": [
    "#### g is broadcast to a (2,3) matrix to accommodate addition"
   ]
  },
  {
   "cell_type": "code",
   "execution_count": 114,
   "metadata": {
    "button": false,
    "new_sheet": false,
    "run_control": {
     "read_only": false
    }
   },
   "outputs": [
    {
     "data": {
      "text/plain": [
       "(2, 3)"
      ]
     },
     "execution_count": 114,
     "metadata": {},
     "output_type": "execute_result"
    }
   ],
   "source": [
    "f = np.random.randn(2, 3) # f.shape = (2, 3)\n",
    "g = np.random.randn(2, 1) # g.shape = (2, 1)\n",
    "h = f + g\n",
    "h.shape"
   ]
  },
  {
   "cell_type": "markdown",
   "metadata": {
    "button": false,
    "new_sheet": false,
    "run_control": {
     "read_only": false
    }
   },
   "source": [
    "#### Not every shape will broadcast with numpy\n",
    "* if you can't predict what the outcome should be of a potential broadcast, reconsider your strategy"
   ]
  },
  {
   "cell_type": "code",
   "execution_count": 115,
   "metadata": {
    "button": false,
    "new_sheet": false,
    "run_control": {
     "read_only": false
    }
   },
   "outputs": [
    {
     "ename": "ValueError",
     "evalue": "operands could not be broadcast together with shapes (4,3) (3,2) ",
     "output_type": "error",
     "traceback": [
      "\u001b[0;31m---------------------------------------------------------------------------\u001b[0m",
      "\u001b[0;31mValueError\u001b[0m                                Traceback (most recent call last)",
      "\u001b[0;32m<ipython-input-115-ab67192195cb>\u001b[0m in \u001b[0;36m<module>\u001b[0;34m\u001b[0m\n\u001b[1;32m      2\u001b[0m \u001b[0mi\u001b[0m \u001b[0;34m=\u001b[0m \u001b[0mnp\u001b[0m\u001b[0;34m.\u001b[0m\u001b[0mrandom\u001b[0m\u001b[0;34m.\u001b[0m\u001b[0mrandn\u001b[0m\u001b[0;34m(\u001b[0m\u001b[0;36m4\u001b[0m\u001b[0;34m,\u001b[0m \u001b[0;36m3\u001b[0m\u001b[0;34m)\u001b[0m \u001b[0;31m# i.shape = (4, 3)\u001b[0m\u001b[0;34m\u001b[0m\u001b[0;34m\u001b[0m\u001b[0m\n\u001b[1;32m      3\u001b[0m \u001b[0mj\u001b[0m \u001b[0;34m=\u001b[0m \u001b[0mnp\u001b[0m\u001b[0;34m.\u001b[0m\u001b[0mrandom\u001b[0m\u001b[0;34m.\u001b[0m\u001b[0mrandn\u001b[0m\u001b[0;34m(\u001b[0m\u001b[0;36m3\u001b[0m\u001b[0;34m,\u001b[0m \u001b[0;36m2\u001b[0m\u001b[0;34m)\u001b[0m \u001b[0;31m# j.shape = (3, 2)\u001b[0m\u001b[0;34m\u001b[0m\u001b[0;34m\u001b[0m\u001b[0m\n\u001b[0;32m----> 4\u001b[0;31m \u001b[0mk\u001b[0m \u001b[0;34m=\u001b[0m \u001b[0mi\u001b[0m\u001b[0;34m*\u001b[0m\u001b[0mj\u001b[0m\u001b[0;34m\u001b[0m\u001b[0;34m\u001b[0m\u001b[0m\n\u001b[0m",
      "\u001b[0;31mValueError\u001b[0m: operands could not be broadcast together with shapes (4,3) (3,2) "
     ]
    }
   ],
   "source": [
    "# cannot broadcast these shapes\n",
    "i = np.random.randn(4, 3) # i.shape = (4, 3)\n",
    "j = np.random.randn(3, 2) # j.shape = (3, 2)\n",
    "k = i*j"
   ]
  },
  {
   "cell_type": "markdown",
   "metadata": {
    "button": false,
    "new_sheet": false,
    "run_control": {
     "read_only": false
    }
   },
   "source": [
    "### Perform a dot product betw two matrices\n",
    "* not the shape result"
   ]
  },
  {
   "cell_type": "code",
   "execution_count": 116,
   "metadata": {
    "button": false,
    "new_sheet": false,
    "run_control": {
     "read_only": false
    }
   },
   "outputs": [
    {
     "data": {
      "text/plain": [
       "(12288, 45)"
      ]
     },
     "execution_count": 116,
     "metadata": {},
     "output_type": "execute_result"
    }
   ],
   "source": [
    "# note dot product shape result\n",
    "l = np.random.randn(12288, 150) # l.shape = (12288, 150)\n",
    "m = np.random.randn(150, 45) # m.shape = (150, 45)\n",
    "\n",
    "# perform dot product\n",
    "n = np.dot(l,m)\n",
    "n.shape"
   ]
  },
  {
   "cell_type": "markdown",
   "metadata": {
    "button": false,
    "new_sheet": false,
    "run_control": {
     "read_only": false
    }
   },
   "source": [
    "#### Equivalent for loop and vectorized form of summing matrix w/ vector"
   ]
  },
  {
   "cell_type": "code",
   "execution_count": 117,
   "metadata": {
    "button": false,
    "new_sheet": false,
    "run_control": {
     "read_only": false
    }
   },
   "outputs": [
    {
     "data": {
      "text/plain": [
       "array([[-0.17864392,  0.3377534 , -0.04837904,  1.06869887],\n",
       "       [-0.72491527, -2.69985519,  0.62838398,  2.30728136],\n",
       "       [-0.47859891, -0.55159259, -0.31342458,  0.85736906]])"
      ]
     },
     "execution_count": 117,
     "metadata": {},
     "output_type": "execute_result"
    }
   ],
   "source": [
    "# vectorize a for loop\n",
    "# o.shape = (3,4)\n",
    "# p.shape = (4,1)\n",
    "\n",
    "o = np.random.randn(3, 4)\n",
    "p = np.random.randn(4, 1)\n",
    "\n",
    "# not vectorized form\n",
    "# for i in range(3):\n",
    "#     for j in range(4):\n",
    "#         q[i][j] = o[i][j] + p[j]\n",
    "        \n",
    "# vectorized form        \n",
    "q = o + p.T\n",
    "q"
   ]
  },
  {
   "cell_type": "markdown",
   "metadata": {
    "button": false,
    "new_sheet": false,
    "run_control": {
     "read_only": false
    }
   },
   "source": [
    "#### Broadcast vector for element-wise multiplication with matrix"
   ]
  },
  {
   "cell_type": "code",
   "execution_count": 118,
   "metadata": {
    "button": false,
    "new_sheet": false,
    "run_control": {
     "read_only": false
    }
   },
   "outputs": [
    {
     "name": "stdout",
     "output_type": "stream",
     "text": [
      "[[ 0.61511136 -0.90393123 -0.41371254]\n",
      " [-0.33064669 -0.46787484  0.62698729]\n",
      " [-0.21014577  0.22333625  0.31273106]]\n",
      "[[ 0.61511136 -0.90393123 -0.41371254]\n",
      " [-0.33064669 -0.46787484  0.62698729]\n",
      " [-0.21014577  0.22333625  0.31273106]]\n",
      "[[ True  True  True]\n",
      " [ True  True  True]\n",
      " [ True  True  True]]\n"
     ]
    }
   ],
   "source": [
    "r = np.random.randn(3,3)\n",
    "s = np.random.randn(3,1)\n",
    "t = r*s\n",
    "print(t)\n",
    "\n",
    "# as expected, it's commutative\n",
    "u = s*r\n",
    "print(u)\n",
    "\n",
    "print(t==u)"
   ]
  },
  {
   "cell_type": "code",
   "execution_count": null,
   "metadata": {
    "button": false,
    "collapsed": true,
    "new_sheet": false,
    "run_control": {
     "read_only": false
    }
   },
   "outputs": [],
   "source": []
  }
 ],
 "metadata": {
  "kernelspec": {
   "display_name": "Python 3",
   "language": "python",
   "name": "python3"
  },
  "language_info": {
   "codemirror_mode": {
    "name": "ipython",
    "version": 3
   },
   "file_extension": ".py",
   "mimetype": "text/x-python",
   "name": "python",
   "nbconvert_exporter": "python",
   "pygments_lexer": "ipython3",
   "version": "3.6.7"
  }
 },
 "nbformat": 4,
 "nbformat_minor": 2
}
